{
 "cells": [
  {
   "cell_type": "markdown",
   "metadata": {},
   "source": [
    "<img src=\"https://bit.ly/2VnXWr2\" width=\"100\" align=\"left\"/>"
   ]
  },
  {
   "cell_type": "markdown",
   "metadata": {},
   "source": [
    "# Robin Hood\n",
    "Robin Hood has entered a competition to win the archery contest in Sherwood. With his bow and arrows, he needs to shoot on a target and try to hit as close as possible to the center.\n",
    "\n",
    "![](images/arrows.jpg)\n",
    "\n",
    "## Context\n",
    "In this challenge, the landing position of arrows shot by archers in the competition will be represented using 2-dimensional coordinates. \n",
    "\n",
    "In the 2-dimensional space, a point can be defined by a pair of values that correspond to the horizontal coordinate (x) and the vertical coordinate (y). For example, in our case, an arrow that hits the center of the archery target will land in position (0, 0) on the coordinate axes. \n",
    "\n",
    "The space can be divided into 4 zones (quadrants): Q1, Q2, Q3, Q4. If a point is in Q1, both its x coordinate and y coordinate are positive. Any point with a null x or y coordinate is considered to not belong to any quadrant. \n",
    "\n",
    "If you want to know more about the cartesian coordinate system, you can check this [link](https://en.wikipedia.org/wiki/Cartesian_coordinate_system). \n",
    "\n",
    "## Tools\n",
    "You don't necessarily need to use all the tools. Maybe you opt to use some of them or completely different ones, they are given to help you shape the exercise. Programming exercises can be solved in many different ways.\n",
    "* Data structures: **lists, sets, tuples**\n",
    "* Conditional statements: **if-elif-else**\n",
    "* Loop: **while/for**\n",
    "* Minimum (optional sorting)\n",
    "\n",
    "## Tasks\n",
    "Robin Hood has hit the following points:"
   ]
  },
  {
   "cell_type": "code",
   "execution_count": 77,
   "metadata": {},
   "outputs": [],
   "source": [
    "points = [(4, 5), (-0, 2), (4, 7), (1, -3), (3, -2), (4, 5), (3, 2), (5, 7), (-5, 7), (2, 2), (-4, 5), (0, -2),\n",
    "          (-4, 7), (-1, 3), (-3, 2), (-4, -5), (-3, 2), (5, 7), (5, 7), (2, 2), (9, 9), (-8, -9)]"
   ]
  },
  {
   "cell_type": "markdown",
   "metadata": {},
   "source": [
    "#### 1. Robin Hood is famous for hitting an arrow with another arrow. Find the coordinates of the points where an arrow hits another arrow."
   ]
  },
  {
   "cell_type": "code",
   "execution_count": 79,
   "metadata": {},
   "outputs": [
    {
     "ename": "SyntaxError",
     "evalue": "EOF while scanning triple-quoted string literal (<ipython-input-79-7105aca9c7ca>, line 53)",
     "output_type": "error",
     "traceback": [
      "\u001b[0;36m  File \u001b[0;32m\"<ipython-input-79-7105aca9c7ca>\"\u001b[0;36m, line \u001b[0;32m53\u001b[0m\n\u001b[0;31m    con eso, comparar las dos listas y elementos con entrada x iguales, se imprimen, igual con y.\u001b[0m\n\u001b[0m                                                                                                  \n^\u001b[0m\n\u001b[0;31mSyntaxError\u001b[0m\u001b[0;31m:\u001b[0m EOF while scanning triple-quoted string literal\n"
     ]
    }
   ],
   "source": [
    "\n",
    "\n",
    "doublehit=0\n",
    "\n",
    "for i in range(len(points)):\n",
    "    for j in range(len(points)):\n",
    "        if points[i]==points[j] and i!=j :\n",
    "            doublehit= doublehit+1\n",
    "if doublehit>0:\n",
    "    print(\"the number of repeated points are: {}\" .format(doublehit))\n",
    "        \n",
    "\n",
    "\"\"\"\n",
    "i=0\n",
    "\n",
    "for x in points:\n",
    "    \n",
    "    \n",
    "   # while i in range(0,len(points)):\n",
    "   #     if points[i][0] == points[i+1][0] and points[i][1]==points[i+1][1]:\n",
    "    entX=[x]\n",
    "         \n",
    "    for entrada in points:\n",
    "        entradax=points[i][0] \n",
    "        entX.append(entradax)\n",
    "       \n",
    "    print(points[i][0])\n",
    "    print(entradax)\n",
    "    \n",
    "    i=i+1\n",
    "   \n",
    "    \n",
    "    \n",
    "   # break;\n",
    "j=0\n",
    "for x in points:\n",
    "    entraday=points[j][1]\n",
    "    \n",
    "    entY=[x]\n",
    "    for entrada in points:\n",
    "        entY.append(entraday)\n",
    "    #print(points[j][1])\n",
    "    #print(entraday)\n",
    "    j=j+1   \n",
    "\n",
    "print(entradax, entraday)\n",
    "print(entX)\n",
    "print(entY)\n",
    "    #print(points[i]) \n",
    "        \n",
    "    \n",
    "intento crear dos listas una con las entradas x de points y otra con las entradas y de points.\n",
    "con eso, comparar las dos listas y elementos con entrada x iguales, se imprimen, igual con y. \n"
   ]
  },
  {
   "cell_type": "markdown",
   "metadata": {},
   "source": [
    "#### 2. Calculate how many arrows have fallen in each quadrant. \n",
    "**Note**: the arrows that fall in the axis (x=0 or y=0) don't belong to any quadrant."
   ]
  },
  {
   "cell_type": "code",
   "execution_count": 78,
   "metadata": {},
   "outputs": [
    {
     "name": "stdout",
     "output_type": "stream",
     "text": [
      "número de flechas que pegaron en cuadrantes q1, q2, q3, q4 respectivamente: 11, 6, 2, 0\n"
     ]
    }
   ],
   "source": [
    "#def x such that x = int\n",
    "#q1= x>0 and y>0\n",
    "\n",
    "q1=0\n",
    "q2=0\n",
    "q3=0\n",
    "q4=0\n",
    "\n",
    "for i in range(len(points)):\n",
    "    if points[i][0]>=0 and points[i][1]>0:\n",
    "        q1+=1\n",
    "    elif points[i][0]<0 and points[i][1]>0:\n",
    "        q2+=1\n",
    "    elif points[i][0]<=0 and points[i][0]<0:\n",
    "        q3+=1\n",
    "    elif points[i][0]>0 and points[i][0]<0:\n",
    "        q4+=1\n",
    "print(\"número de flechas que pegaron en cuadrantes q1, q2, q3, q4 respectivamente: {}, {}, {}, {}\" .format(q1,q2, q3, q4))\n",
    "    \n"
   ]
  },
  {
   "cell_type": "markdown",
   "metadata": {},
   "source": [
    "#### 3. Find the point closest to the center. Calculate its distance to the center. \n",
    "Take into account that there might be more than one point at the minimum distance to the center.\n",
    "\n",
    "**Hint**: Use the Euclidean distance. You can find more information about it [here](https://en.wikipedia.org/wiki/Euclidean_distance).  \n",
    "**Hint**: Defining a function that calculates the distance to the center can help."
   ]
  },
  {
   "cell_type": "code",
   "execution_count": 85,
   "metadata": {},
   "outputs": [
    {
     "name": "stdout",
     "output_type": "stream",
     "text": [
      "[6.4031242374328485, 2.0, 8.06225774829855, 3.1622776601683795, 3.605551275463989, 6.4031242374328485, 3.605551275463989, 8.602325267042627, 8.602325267042627, 2.8284271247461903, 6.4031242374328485, 2.0, 8.06225774829855, 3.1622776601683795, 3.605551275463989, 6.4031242374328485, 3.605551275463989, 8.602325267042627, 8.602325267042627, 2.8284271247461903, 12.727922061357855, 12.041594578792296]\n",
      "closest points to center are:  [(0, 2), (0, -2)]\n"
     ]
    }
   ],
   "source": [
    "def dist(x, y):\n",
    "    d=(x**2+y**2)**(.5)\n",
    "    return d\n",
    "di=[]\n",
    "for i in range(len(points)):\n",
    "    di.append(dist(points[i][0], points[i][1]))\n",
    "print(di)\n",
    "\n",
    "\n",
    "closest=[]\n",
    "for i in range(len(points)):\n",
    "    if dist(points[i][0], points[i][1])== min(di):\n",
    "        closest.append(points[i])\n",
    "print(\"closest points to center are: \", closest )\n"
   ]
  },
  {
   "cell_type": "markdown",
   "metadata": {},
   "source": [
    "#### 4. If the archery target has a radius of 9, calculate the number of arrows that won't hit the target. \n",
    "**Hint**: Use the function created in step 3. "
   ]
  },
  {
   "cell_type": "code",
   "execution_count": 86,
   "metadata": {},
   "outputs": [
    {
     "name": "stdout",
     "output_type": "stream",
     "text": [
      "number of arrows out of target:  2\n"
     ]
    }
   ],
   "source": [
    "nonhiters=0\n",
    "for i in range(len(points)):\n",
    "    if dist(points[i][0], points[i][1])>9:\n",
    "        nonhiters+=1\n",
    "print(\"number of arrows out of target: \", nonhiters)"
   ]
  },
  {
   "cell_type": "code",
   "execution_count": null,
   "metadata": {},
   "outputs": [],
   "source": []
  }
 ],
 "metadata": {
  "kernelspec": {
   "display_name": "Python 3",
   "language": "python",
   "name": "python3"
  },
  "language_info": {
   "codemirror_mode": {
    "name": "ipython",
    "version": 3
   },
   "file_extension": ".py",
   "mimetype": "text/x-python",
   "name": "python",
   "nbconvert_exporter": "python",
   "pygments_lexer": "ipython3",
   "version": "3.7.4"
  }
 },
 "nbformat": 4,
 "nbformat_minor": 2
}
